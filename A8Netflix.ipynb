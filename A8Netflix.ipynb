{
 "cells": [
  {
   "cell_type": "markdown",
   "metadata": {},
   "source": [
    "# Netflix Dataset\n",
    "\n",
    "## Commandas I used for project\n",
    "* `head()` - It shows the first N rows in the data (by default, N=5).\n",
    "* `tail()` - It shows the last N rows in the data (by default, N=5).\n",
    "* `shape` - It shows the total no. of rows and no. of columns of the dataframe.\n",
    "* `size` - To show No. of total values(elements) in the dataset.\n",
    "* `columns` - To show each Column Name.\n",
    "* `dtypes` - To show the data-type of each column.\n",
    "* `info()` - To show indexes, columns, data-types of each column, memory at once.\n",
    "* `value_counts` - In a column, it shows all the unique values with their count. It can be applied on a single column only.\n",
    "* `unique()` - It shows the all unique values of the series.\n",
    "* `nunique()` - It shows the total no. of unique values in the series.\n",
    "* `duplicated()` - To check row wise and detect the Duplicate rows.\n",
    "* `isnull()` - To show where Null value is present.\n",
    "* `dropna()` - It drops the rows that contains all missing values.\n",
    "* `isin()` - To show all records including particular elements.\n",
    "* `str.contains()` - To get all records that contains a given string.\n",
    "* `str.split()` - It splits a column's string into different columns.\n",
    "* `to_datetime()` - Converts the data-type of Date-Time Column into datetime[ns] datatype.\n",
    "* `dt.year.value_counts()` - It counts the occurrence of all individual years in Time column.\n",
    "* `groupby()` - Groupby is used to split the data into groups based on some criteria.\n",
    "* `sns.countplot(df['Col_name'])` - To show the count of all unique values of any column in the form of bar graph.\n",
    "* `max()`, `min()` - It shows the maximum/minimum value of the series.\n",
    "* `mean()` - It shows the mean value of the series.\n",
    "\n",
    "\n",
    "## Questions and goals\n",
    "**English**\n",
    "\n",
    "Task\n",
    "1. Is there any Duplicate Record in this dataset ? If yes, then remove the duplicate records.\n",
    "2. Is there any Null Value present in any column ? Show with Heat-map.\n",
    "\n",
    "\n",
    "Questions\n",
    "1. For 'House of Cards', what is the Show Id and Who is the Director of this show ?\n",
    "2. In which year the highest number of the TV Shows & Movies were released ? Show with Bar Graph.\n",
    "3. How many Movies & TV Shows are in the dataset ? Show with Bar Graph.\n",
    "4. Show all the Movies that were released in year 2000.\n",
    "5. Show only the Titles of all TV Shows that were released in India only.\n",
    "6. Show Top 10 Directors, who gave the highest number of TV Shows & Movies to Netflix ?\n",
    "7. Show all the Records, where \"Category is Movie and Type is Comedies\" or \"Country is United Kingdom\".\n",
    "8. In how many movies/shows, Tom Cruise was cast ?\n",
    "9. What are the different Ratings defined by Netflix ?\n",
    "    * How many Movies got the 'TV-14' rating, in Canada ?\n",
    "    * How many TV Shows got the 'R' rating, after year 2018 ?\n",
    "10. What is the maximum duration of a Movie/Show on Netflix ?\n",
    "11. Which individual country has the Highest No. of TV Shows ?\n",
    "12. How can we sort the dataset by Year ?\n",
    "13. Find all the instances where: Category is 'Movie' and Type is 'Dramas' or Category is 'TV Show' & Type is 'Kids' TV'.\n",
    "___\n",
    "**Spanish**\n",
    "\n",
    "Tarea\n",
    "1. ¿Hay algún registro duplicado en este conjunto de datos? Si es así, elimine los registros duplicados.\n",
    "2. ¿Hay algún valor nulo en alguna columna? Mostrar con el mapa de calor.\n",
    "\n",
    "\n",
    "Preguntas\n",
    "1. Para 'House of Cards', ¿cuál es el ID del programa y quién es el director de este programa?\n",
    "2. ¿En qué año se estrenó el mayor número de programas de televisión y películas? Muéstralo con un gráfico de barras.\n",
    "3. ¿Cuántas películas y programas de televisión hay en el conjunto de datos? Muéstralo con un gráfico de barras.\n",
    "4. Muestra todas las películas estrenadas en el año 2000.\n",
    "5. Mostrar sólo los títulos de todos los programas de televisión que se estrenaron en la India.\n",
    "6. 6. Mostrar los 10 directores que han dado el mayor número de programas de televisión y películas a Netflix.\n",
    "7. Mostrar todos los registros, donde la \"Categoría es Película y el Tipo es Comedias\" o el \"País es Reino Unido\".\n",
    "8. ¿En cuántas películas/espectáculos ha actuado Tom Cruise?\n",
    "9. 9. ¿Cuáles son las diferentes clasificaciones definidas por Netflix?\n",
    "    * 10. ¿Cuántas películas obtuvieron la clasificación \"TV-14\" en Canadá?\n",
    "    * ¿Cuántos programas de televisión obtuvieron la calificación 'R', después del año 2018?\n",
    "10. ¿Cuál es la duración máxima de una película/espectáculo en Netflix?\n",
    "11. ¿Qué país tiene el mayor número de programas de televisión?\n",
    "12. ¿Cómo podemos ordenar el conjunto de datos por año?\n",
    "13. Encuentre todos los casos en los que: La categoría es \"Película\" y el tipo es \"Dramas\" o la categoría es \"Programa de TV\" y el tipo es \"TV infantil\".\n",
    "\n"
   ]
  },
  {
   "cell_type": "code",
   "execution_count": 2,
   "metadata": {},
   "outputs": [],
   "source": [
    "# setup for work\n",
    "import pandas as pd\n",
    "df = pd.read_csv('A8Netflix Dataset.csv')"
   ]
  },
  {
   "cell_type": "code",
   "execution_count": null,
   "metadata": {},
   "outputs": [],
   "source": []
  },
  {
   "cell_type": "code",
   "execution_count": null,
   "metadata": {},
   "outputs": [],
   "source": []
  }
 ],
 "metadata": {
  "interpreter": {
   "hash": "347d6945ee2fc4eb9e549e25edeb3c445c28a1210244f6dfb5f7604badb91a67"
  },
  "kernelspec": {
   "display_name": "Python 3.9.7 64-bit ('spyown': conda)",
   "language": "python",
   "name": "python3"
  },
  "language_info": {
   "codemirror_mode": {
    "name": "ipython",
    "version": 3
   },
   "file_extension": ".py",
   "mimetype": "text/x-python",
   "name": "python",
   "nbconvert_exporter": "python",
   "pygments_lexer": "ipython3",
   "version": "3.9.7"
  },
  "orig_nbformat": 4
 },
 "nbformat": 4,
 "nbformat_minor": 2
}
