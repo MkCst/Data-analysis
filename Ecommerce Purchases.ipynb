{
 "cells": [
  {
   "cell_type": "markdown",
   "metadata": {},
   "source": [
    "# Ecommerce Purchases\n",
    "**Datos disponibles en:**\n",
    "\n",
    "[kagle_Ecommerce](https://www.kaggle.com/utkarsharya/ecommerce-purchases)\n",
    "\n",
    "## Analisis de datos\n",
    "Se requiere conocer los siguiente\n",
    "\n",
    "1. Mostrar las 10 primeras filas del conjunto de datos\n",
    "2. Comprobar las 10 últimas filas del conjunto de datos\n",
    "3. Comprobar el tipo de datos de cada columna\n",
    "4. Comprobar los valores nulos en el conjunto de datos\n",
    "5. ¿Cuántas filas y columnas hay en nuestro conjunto de datos? \n",
    "6. Precios de compra más altos y más bajos.\n",
    "7. Precio medio de compra\n",
    "8. ¿Cuántas personas tienen el francés \"fr\" como lengua?\n",
    "9. El puesto de trabajo contiene un ingeniero\n",
    "10. Encuentre el correo electrónico de la persona con la siguiente dirección IP: 132.207.160.22\n",
    "11. ¿Cuántas personas tienen Mastercard como proveedor de tarjeta de crédito y han hecho una compra superior a 50?\n",
    "12. Encuentre el correo electrónico de la persona con el siguiente número de tarjeta de crédito: 4664825258997302\n",
    "13. ¿Cuántas personas compran por la mañana y cuántas por la tarde?\n",
    "14. ¿Cuántas personas tienen una tarjeta de crédito que caduca en 2020?\n",
    "15. ¿Cuáles son los 5 proveedores de correo electrónico más populares (por ejemplo, gmail.com, yahoo.com, etc.)?"
   ]
  },
  {
   "cell_type": "code",
   "execution_count": null,
   "metadata": {},
   "outputs": [],
   "source": []
  },
  {
   "cell_type": "code",
   "execution_count": null,
   "metadata": {},
   "outputs": [],
   "source": []
  },
  {
   "cell_type": "code",
   "execution_count": null,
   "metadata": {},
   "outputs": [],
   "source": []
  }
 ],
 "metadata": {
  "interpreter": {
   "hash": "25bf1dab56f13e21d80318cd5e789e076f92a14fa9924f370a2a818164c863f4"
  },
  "kernelspec": {
   "display_name": "Python 3.9.7 64-bit",
   "language": "python",
   "name": "python3"
  },
  "language_info": {
   "name": "python",
   "version": "3.9.7"
  },
  "orig_nbformat": 4
 },
 "nbformat": 4,
 "nbformat_minor": 2
}
