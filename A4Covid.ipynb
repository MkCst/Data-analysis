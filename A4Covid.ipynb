{
 "cells": [
  {
   "cell_type": "markdown",
   "metadata": {},
   "source": [
    "# Covid small dataset\n",
    "\n",
    "**The commands that we used in this project :**\n",
    "```\n",
    "* import pandas as pd -- To import Pandas library\n",
    "* pd.read_csv - To import the CSV file in Jupyter notebook\n",
    "* df.count() - It counts the no. of non-null values of each column.\n",
    "* df.isnull().sum() - It detects the missing values from the dataframe.\n",
    "* import seaborn as sns - To import the Seaborn library.\n",
    "* import matplotlib.pyplot as plt - To import the Matplotlib library.\n",
    "* sns.heatmap(df.isnull()) - It will show the all columns & missing values in them in heat map form.\n",
    "* plt.show() - To show the plot.\n",
    "* df.groupby(‘Col_name’) - To form groups of all unique values of the column.\n",
    "* df.sort_values(by= ['Col_name'] ) - Sort the entire dataframe by the values of the given column.     \n",
    "* df[df.Col_1 = = ‘Element1’] - Filtering – We are accessing all records with Element1 only of Col_1.\n",
    "```\n",
    "\n",
    "## Objetives\n",
    "\n",
    "**English**\n",
    "1) Show the number of Confirmed, Deaths and Recovered cases in each Region.\n",
    "2) Remove all the records where the Confirmed Cases is Less Than 10.\n",
    "3) In which Region, maximum number of Confirmed cases were recorded ?\n",
    "4) In which Region, minimum number of Deaths cases were recorded ?\n",
    "5) How many Confirmed, Deaths & Recovered cases were reported from India till 29 April 2020 ?\n",
    "6-A ) Sort the entire data wrt No. of Confirmed cases in ascending order.\n",
    "6-B ) Sort the entire data wrt No. of Recovered cases in descending order.\n",
    "\n",
    "**Spanish**\n",
    "1) Indique el número de casos confirmados, muertos y recuperados en cada región.\n",
    "2) Elimine todos los registros en los que los casos confirmados sean inferiores a 10.\n",
    "3) ¿En qué región se registró el máximo número de casos confirmados?\n",
    "4) ¿En qué región se ha registrado el mínimo número de muertes?\n",
    "5) ¿Cuántos casos confirmados, muertos y recuperados se registraron en la India hasta el 29 de abril de 2020?\n",
    "6-A ) Ordena todos los datos con el número de casos confirmados en orden ascendente.\n",
    "6-B ) Ordena todos los datos con el número de casos recuperados en orden descendente."
   ]
  },
  {
   "cell_type": "markdown",
   "metadata": {},
   "source": [
    "**Question 1**\n",
    "* Show the number of Confirmed, Deaths and Recovered cases in each Region.\n",
    "* Indique el número de casos confirmados, muertos y recuperados en cada región.\n"
   ]
  },
  {
   "cell_type": "code",
   "execution_count": null,
   "metadata": {},
   "outputs": [],
   "source": []
  },
  {
   "cell_type": "code",
   "execution_count": null,
   "metadata": {},
   "outputs": [],
   "source": []
  },
  {
   "cell_type": "code",
   "execution_count": null,
   "metadata": {},
   "outputs": [],
   "source": []
  },
  {
   "cell_type": "code",
   "execution_count": null,
   "metadata": {},
   "outputs": [],
   "source": []
  },
  {
   "cell_type": "code",
   "execution_count": null,
   "metadata": {},
   "outputs": [],
   "source": []
  },
  {
   "cell_type": "code",
   "execution_count": null,
   "metadata": {},
   "outputs": [],
   "source": []
  },
  {
   "cell_type": "code",
   "execution_count": null,
   "metadata": {},
   "outputs": [],
   "source": []
  }
 ],
 "metadata": {
  "language_info": {
   "name": "python"
  },
  "orig_nbformat": 4
 },
 "nbformat": 4,
 "nbformat_minor": 2
}
