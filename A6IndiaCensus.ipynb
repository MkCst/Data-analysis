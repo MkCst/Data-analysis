{
 "cells": [
  {
   "cell_type": "markdown",
   "metadata": {},
   "source": [
    "# Census dataset\n",
    "\n",
    "**Commands I used in this project**\n",
    "\n",
    "* `import pandas as pd` -- To import Pandas library\n",
    "* `pd.read_csv` - To import the CSV file in Jupyter notebook\n",
    "* `style.hide_index()` - To hide the index of the dataframe.\n",
    "* `style.set_caption('Description of the dataframe')` - To give a caption to the dataframe.\n",
    "* `isin()` - To show all records including particular elements.\n",
    "* `groupby(‘Col_1’)[‘Col_2’].sum( )[‘value’]` - GroupBy – Two Keys – Apply on Col_2 grouped by Col_1.\n",
    "* `df[df.Col_1 == 'Element1']['Col_2']` - Filtering - Filter the records of the dataframe wrt to Element1 of Col1 and then showing results of Col2 only.\n",
    "* `set_index( ‘Col_Name’ )` - To set any column of a DF as an index.\n",
    "* `add_prefix(‘value_’)` - To add prefix to the column name.\n",
    "* `add_suffix(‘_value’)` - To add suffix to the column name.\n",
    "\n",
    "## Questions\n",
    "**English**\n",
    "1) How will you hide the indexes of the dataframe.\n",
    "2) How can we set the caption / heading on the dataframe.\n",
    "3) Show the records related with the districts - New Delhi , Lucknow , Jaipur.\n",
    "4) Calculate state-wise :\n",
    "   * Total number of population.\n",
    "   * Total no. of the population with different religions.\n",
    "5) How many Male Workers were there in Maharashtra state ?\n",
    "6) How to set a column as index of the dataframe ?\n",
    "7) Suffix and Prefix\n",
    "   * Add a Suffix to the column names.\n",
    "   * Add a Prefix to the column names.\n",
    "\n",
    "**Spanish**\n",
    "1) Cómo se ocultan los índices del dataframe.\n",
    "2) ¿Cómo podemos establecer el título / encabezado en el marco de datos.\n",
    "3) Mostrar los registros relacionados con los distritos - Nueva Delhi , Lucknow , Jaipur.\n",
    "4) Calcule el número de habitantes de cada estado:\n",
    "   * Número total de población.\n",
    "   * Número total de la población con diferentes religiones.\n",
    "5) ¿Cuántos trabajadores masculinos había en el estado de Maharashtra?\n",
    "6) ¿Cómo establecer una columna como índice del marco de datos?\n",
    "7) Sufijo y Prefijo\n",
    "   * Añadir un Sufijo a los nombres de las columnas.\n",
    "   * Añadir un prefijo a los nombres de las columnas.\n",
    "\n"
   ]
  },
  {
   "cell_type": "code",
   "execution_count": 2,
   "metadata": {},
   "outputs": [],
   "source": [
    "import pandas as pd\n",
    "df = pd.read_csv('A6IndiaCensus2011.csv')\n"
   ]
  },
  {
   "cell_type": "code",
   "execution_count": null,
   "metadata": {},
   "outputs": [],
   "source": []
  },
  {
   "cell_type": "code",
   "execution_count": null,
   "metadata": {},
   "outputs": [],
   "source": []
  }
 ],
 "metadata": {
  "interpreter": {
   "hash": "347d6945ee2fc4eb9e549e25edeb3c445c28a1210244f6dfb5f7604badb91a67"
  },
  "kernelspec": {
   "display_name": "Python 3.9.7 64-bit ('spyown': conda)",
   "language": "python",
   "name": "python3"
  },
  "language_info": {
   "codemirror_mode": {
    "name": "ipython",
    "version": 3
   },
   "file_extension": ".py",
   "mimetype": "text/x-python",
   "name": "python",
   "nbconvert_exporter": "python",
   "pygments_lexer": "ipython3",
   "version": "3.9.7"
  },
  "orig_nbformat": 4
 },
 "nbformat": 4,
 "nbformat_minor": 2
}
