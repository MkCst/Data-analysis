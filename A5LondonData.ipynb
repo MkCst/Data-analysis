{
 "cells": [
  {
   "cell_type": "markdown",
   "metadata": {},
   "source": [
    "# London House Data\n",
    "\n",
    "**Commands that I used for this project**\n",
    "\n",
    "* import pandas as pd -- To import Pandas library\n",
    "* pd.read_csv - To import the CSV file in Jupyter notebook\n",
    "* df.count() - It counts the no. of non-null values of each column.\n",
    "* df.isnull().sum() - It detects the missing values from the dataframe.\n",
    "* import seaborn as sns - To import the Seaborn library.\n",
    "* import matplotlib.pyplot as plt - To import the Matplotlib library.\n",
    "* sns.heatmap(df.isnull()) - It will show the all columns & missing values in them in heat map form.\n",
    "* plt.show() - To show the plot.\n",
    "* df.dtypes - To show the datatype of each column.\n",
    "* pd.to_datetime(df.Date_Time_Col) - Converts the data-type of Date-Time Column into datetime[ns] datatype.\n",
    "* df.Time_Col.dt.year - Creating a new column with only year values\n",
    "* df.Time_Col.dt.month - Creating a new column with only month values.\n",
    "* df.insert( index , ‘new_column_name’, new_column_values) - To insert a New column at a particular position with values in it.\n",
    "* df.drop(['Col_name'] , axis=1 , inplace = True) - To drop a column from the dataframe permanently.\n",
    "* df.groupby(‘Col_name’) - To form groups of all unique values of the column.\n",
    "* df[df.Col_1 = = ‘Element1’] - Filtering – We are accessing all records with Element1 only of Col_1.\n",
    "* df.groupby(‘Col_1’)[‘Col_2’] .mean( ) - To create groups - Two Keys – Apply on Col_2 grouped by Col_1.\n",
    "\n",
    "## Objetives\n",
    "**English**\n",
    "1) Convert the Datatype of 'Date' column to Date-Time format.\n",
    "2) Add a new column ''year'' in the dataframe, which contains years only.(B.2) Add a new column ''month'' as 2nd column in the dataframe, which contains month only.\n",
    "3) Remove the columns 'year' and 'month' from the dataframe.\n",
    "4) Show all the records where 'No. of Crimes' is 0. And, how many such records are there ?\n",
    "5) What is the maximum & minimum 'average_price' per year in england ?\n",
    "6) What is the Maximum & Minimum No. of Crimes recorded per area ?\n",
    "7) Show the total count of records of each area, where average price is less than 100000.\n",
    "\n",
    "**Spanish**\n",
    "1) Convertir el tipo de datos de la columna \"Fecha\" al formato Fecha-Hora.\n",
    "2) Añadir una nueva columna ''year'' en el dataframe, que contenga sólo años.(B.2) Añadir una nueva columna ''month'' como 2ª columna en el dataframe, que contenga sólo meses.\n",
    "3) Elimine las columnas \"año\" y \"mes\" del marco de datos.\n",
    "4) Muestra todos los registros en los que el \"Número de delitos\" es 0. ¿Y cuántos registros de este tipo hay?\n",
    "5) ¿Cuál es el máximo y el mínimo del \"precio medio\" por año en Inglaterra?\n",
    "6) ¿Cuál es el número máximo y mínimo de delitos registrados por zona?\n",
    "7) Muestra el recuento total de registros de cada área, donde el precio medio es inferior a 100000.\n"
   ]
  },
  {
   "cell_type": "code",
   "execution_count": 3,
   "metadata": {},
   "outputs": [],
   "source": [
    "# Importando bibliotecas y datos\n",
    "\n",
    "import pandas as pd\n",
    "df = pd.read_csv('A5LondonHousingData.csv')\n"
   ]
  },
  {
   "cell_type": "code",
   "execution_count": 4,
   "metadata": {},
   "outputs": [
    {
     "data": {
      "text/html": [
       "<div>\n",
       "<style scoped>\n",
       "    .dataframe tbody tr th:only-of-type {\n",
       "        vertical-align: middle;\n",
       "    }\n",
       "\n",
       "    .dataframe tbody tr th {\n",
       "        vertical-align: top;\n",
       "    }\n",
       "\n",
       "    .dataframe thead th {\n",
       "        text-align: right;\n",
       "    }\n",
       "</style>\n",
       "<table border=\"1\" class=\"dataframe\">\n",
       "  <thead>\n",
       "    <tr style=\"text-align: right;\">\n",
       "      <th></th>\n",
       "      <th>date</th>\n",
       "      <th>area</th>\n",
       "      <th>average_price</th>\n",
       "      <th>code</th>\n",
       "      <th>houses_sold</th>\n",
       "      <th>no_of_crimes</th>\n",
       "    </tr>\n",
       "  </thead>\n",
       "  <tbody>\n",
       "    <tr>\n",
       "      <th>0</th>\n",
       "      <td>1/1/1995</td>\n",
       "      <td>city of london</td>\n",
       "      <td>91449</td>\n",
       "      <td>E09000001</td>\n",
       "      <td>17.0</td>\n",
       "      <td>NaN</td>\n",
       "    </tr>\n",
       "    <tr>\n",
       "      <th>1</th>\n",
       "      <td>2/1/1995</td>\n",
       "      <td>city of london</td>\n",
       "      <td>82203</td>\n",
       "      <td>E09000001</td>\n",
       "      <td>7.0</td>\n",
       "      <td>NaN</td>\n",
       "    </tr>\n",
       "    <tr>\n",
       "      <th>2</th>\n",
       "      <td>3/1/1995</td>\n",
       "      <td>city of london</td>\n",
       "      <td>79121</td>\n",
       "      <td>E09000001</td>\n",
       "      <td>14.0</td>\n",
       "      <td>NaN</td>\n",
       "    </tr>\n",
       "    <tr>\n",
       "      <th>3</th>\n",
       "      <td>4/1/1995</td>\n",
       "      <td>city of london</td>\n",
       "      <td>77101</td>\n",
       "      <td>E09000001</td>\n",
       "      <td>7.0</td>\n",
       "      <td>NaN</td>\n",
       "    </tr>\n",
       "    <tr>\n",
       "      <th>4</th>\n",
       "      <td>5/1/1995</td>\n",
       "      <td>city of london</td>\n",
       "      <td>84409</td>\n",
       "      <td>E09000001</td>\n",
       "      <td>10.0</td>\n",
       "      <td>NaN</td>\n",
       "    </tr>\n",
       "  </tbody>\n",
       "</table>\n",
       "</div>"
      ],
      "text/plain": [
       "       date            area  average_price       code  houses_sold  \\\n",
       "0  1/1/1995  city of london          91449  E09000001         17.0   \n",
       "1  2/1/1995  city of london          82203  E09000001          7.0   \n",
       "2  3/1/1995  city of london          79121  E09000001         14.0   \n",
       "3  4/1/1995  city of london          77101  E09000001          7.0   \n",
       "4  5/1/1995  city of london          84409  E09000001         10.0   \n",
       "\n",
       "   no_of_crimes  \n",
       "0           NaN  \n",
       "1           NaN  \n",
       "2           NaN  \n",
       "3           NaN  \n",
       "4           NaN  "
      ]
     },
     "execution_count": 4,
     "metadata": {},
     "output_type": "execute_result"
    }
   ],
   "source": [
    "df.head()"
   ]
  },
  {
   "cell_type": "code",
   "execution_count": 5,
   "metadata": {},
   "outputs": [
    {
     "data": {
      "text/plain": [
       "date             13549\n",
       "area             13549\n",
       "average_price    13549\n",
       "code             13549\n",
       "houses_sold      13455\n",
       "no_of_crimes      7439\n",
       "dtype: int64"
      ]
     },
     "execution_count": 5,
     "metadata": {},
     "output_type": "execute_result"
    }
   ],
   "source": [
    "df.count()"
   ]
  },
  {
   "cell_type": "code",
   "execution_count": 6,
   "metadata": {},
   "outputs": [
    {
     "data": {
      "text/plain": [
       "date                0\n",
       "area                0\n",
       "average_price       0\n",
       "code                0\n",
       "houses_sold        94\n",
       "no_of_crimes     6110\n",
       "dtype: int64"
      ]
     },
     "execution_count": 6,
     "metadata": {},
     "output_type": "execute_result"
    }
   ],
   "source": [
    "# Ver valores nulos\n",
    "df.isnull().sum()"
   ]
  },
  {
   "cell_type": "markdown",
   "metadata": {},
   "source": [
    "Question 1\n",
    "* Convert the Datatype of 'Date' column to Date-Time format.\n",
    "* Convertir el tipo de datos de la columna \"Fecha\" al formato Fecha-Hora."
   ]
  },
  {
   "cell_type": "code",
   "execution_count": null,
   "metadata": {},
   "outputs": [],
   "source": []
  },
  {
   "cell_type": "code",
   "execution_count": null,
   "metadata": {},
   "outputs": [],
   "source": []
  },
  {
   "cell_type": "code",
   "execution_count": null,
   "metadata": {},
   "outputs": [],
   "source": []
  }
 ],
 "metadata": {
  "interpreter": {
   "hash": "347d6945ee2fc4eb9e549e25edeb3c445c28a1210244f6dfb5f7604badb91a67"
  },
  "kernelspec": {
   "display_name": "Python 3.9.7 64-bit ('spyown': conda)",
   "language": "python",
   "name": "python3"
  },
  "language_info": {
   "codemirror_mode": {
    "name": "ipython",
    "version": 3
   },
   "file_extension": ".py",
   "mimetype": "text/x-python",
   "name": "python",
   "nbconvert_exporter": "python",
   "pygments_lexer": "ipython3",
   "version": "3.9.7"
  },
  "orig_nbformat": 4
 },
 "nbformat": 4,
 "nbformat_minor": 2
}
